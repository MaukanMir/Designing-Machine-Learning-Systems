{
 "cells": [
  {
   "cell_type": "markdown",
   "metadata": {},
   "source": [
    "# Model Deployment and Prediction Service"
   ]
  },
  {
   "cell_type": "markdown",
   "metadata": {},
   "source": [
    "## Batch Prediction Versus Online Prediction\n",
    "\n",
    "- Batch prediction, which uses only batch features.\n",
    "\n",
    "- Online prediction that uses only batch features (e.g., precomputed embeddings).\n",
    "\n",
    "- Online prediction that uses both batch features and streaming features. This is also known as streaming prediction."
   ]
  },
  {
   "cell_type": "code",
   "execution_count": null,
   "metadata": {},
   "outputs": [],
   "source": []
  }
 ],
 "metadata": {
  "language_info": {
   "name": "python"
  }
 },
 "nbformat": 4,
 "nbformat_minor": 2
}
